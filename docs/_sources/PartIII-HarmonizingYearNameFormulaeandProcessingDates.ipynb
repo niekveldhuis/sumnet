{
 "cells": [
  {
   "cell_type": "markdown",
   "id": "b8f8b155",
   "metadata": {
    "id": "21P-6caix_ma"
   },
   "source": [
    "# III. Harmonizing Year Name Formulae and Processing Dates\n",
    "\n",
    "We now will convert the date field to a series of numerical entries representing the year, month, and day, as well as various special values, recorded on the tablet. This will allow us to perform time analysis on the data."
   ]
  },
  {
   "cell_type": "code",
   "execution_count": 1,
   "id": "5814039f",
   "metadata": {
    "id": "sH8jC6z00vB9"
   },
   "outputs": [],
   "source": [
    "# import necessary libraries\n",
    "import pandas as pd"
   ]
  },
  {
   "cell_type": "code",
   "execution_count": 2,
   "id": "e928306c",
   "metadata": {
    "id": "78n2_xd41bv1"
   },
   "outputs": [
    {
     "data": {
      "text/html": [
       "<div>\n",
       "<style scoped>\n",
       "    .dataframe tbody tr th:only-of-type {\n",
       "        vertical-align: middle;\n",
       "    }\n",
       "\n",
       "    .dataframe tbody tr th {\n",
       "        vertical-align: top;\n",
       "    }\n",
       "\n",
       "    .dataframe thead th {\n",
       "        text-align: right;\n",
       "    }\n",
       "</style>\n",
       "<table border=\"1\" class=\"dataframe\">\n",
       "  <thead>\n",
       "    <tr style=\"text-align: right;\">\n",
       "      <th></th>\n",
       "      <th>Unnamed: 0</th>\n",
       "      <th>date_of_origin</th>\n",
       "      <th>dates_referenced</th>\n",
       "      <th>collection</th>\n",
       "      <th>primary_publication</th>\n",
       "      <th>museum_no</th>\n",
       "      <th>provenience</th>\n",
       "      <th>metadata_source</th>\n",
       "    </tr>\n",
       "  </thead>\n",
       "  <tbody>\n",
       "    <tr>\n",
       "      <th>0</th>\n",
       "      <td>P100041</td>\n",
       "      <td>SSXX - 00 - 00</td>\n",
       "      <td>SSXX - 00 - 00</td>\n",
       "      <td>Louvre Museum, Paris, France</td>\n",
       "      <td>AAS 053</td>\n",
       "      <td>AO 20313</td>\n",
       "      <td>Puzriš-Dagān</td>\n",
       "      <td>BDTNS</td>\n",
       "    </tr>\n",
       "    <tr>\n",
       "      <th>1</th>\n",
       "      <td>P100189</td>\n",
       "      <td>SH46 - 08 - 05</td>\n",
       "      <td>SH46 - 08 - 05</td>\n",
       "      <td>Louvre Museum, Paris, France</td>\n",
       "      <td>AAS 211</td>\n",
       "      <td>AO 20039</td>\n",
       "      <td>Puzriš-Dagān</td>\n",
       "      <td>BDTNS</td>\n",
       "    </tr>\n",
       "    <tr>\n",
       "      <th>2</th>\n",
       "      <td>P100190</td>\n",
       "      <td>SH47 - 07 - 29</td>\n",
       "      <td>SH47 - 07 - 29</td>\n",
       "      <td>Louvre Museum, Paris, France</td>\n",
       "      <td>AAS 212</td>\n",
       "      <td>AO 20051</td>\n",
       "      <td>Puzriš-Dagān</td>\n",
       "      <td>BDTNS</td>\n",
       "    </tr>\n",
       "    <tr>\n",
       "      <th>3</th>\n",
       "      <td>P100191</td>\n",
       "      <td>AS01 - 03 - 24</td>\n",
       "      <td>AS01 - 03 - 24</td>\n",
       "      <td>Louvre Museum, Paris, France</td>\n",
       "      <td>AAS 213</td>\n",
       "      <td>AO 20074</td>\n",
       "      <td>Puzriš-Dagān</td>\n",
       "      <td>BDTNS</td>\n",
       "    </tr>\n",
       "    <tr>\n",
       "      <th>4</th>\n",
       "      <td>P100211</td>\n",
       "      <td>AS01 - 12 - 11</td>\n",
       "      <td>AS01 - 12 - 11</td>\n",
       "      <td>Museum of Fine Arts, Budapest, Hungary</td>\n",
       "      <td>ActSocHun Or 5-12, 156 2</td>\n",
       "      <td>MHBA 51.2400</td>\n",
       "      <td>Puzriš-Dagān</td>\n",
       "      <td>BDTNS</td>\n",
       "    </tr>\n",
       "    <tr>\n",
       "      <th>...</th>\n",
       "      <td>...</td>\n",
       "      <td>...</td>\n",
       "      <td>...</td>\n",
       "      <td>...</td>\n",
       "      <td>...</td>\n",
       "      <td>...</td>\n",
       "      <td>...</td>\n",
       "      <td>...</td>\n",
       "    </tr>\n",
       "    <tr>\n",
       "      <th>15666</th>\n",
       "      <td>P456164</td>\n",
       "      <td>NaN</td>\n",
       "      <td>NaN</td>\n",
       "      <td>NaN</td>\n",
       "      <td>CDLI Seals 003454 (composite)</td>\n",
       "      <td>NaN</td>\n",
       "      <td>Puzriš-Dagan (mod. Drehem)</td>\n",
       "      <td>ORACC</td>\n",
       "    </tr>\n",
       "    <tr>\n",
       "      <th>15667</th>\n",
       "      <td>P459158</td>\n",
       "      <td>Ibbi-Suen.00.00.00</td>\n",
       "      <td>Ibbi-Suen.00.00.00</td>\n",
       "      <td>private: anonymous, unlocated</td>\n",
       "      <td>CDLI Seals 006338 (physical)</td>\n",
       "      <td>Anonymous 459158</td>\n",
       "      <td>Puzriš-Dagan (mod. Drehem)</td>\n",
       "      <td>ORACC</td>\n",
       "    </tr>\n",
       "    <tr>\n",
       "      <th>15668</th>\n",
       "      <td>P481391</td>\n",
       "      <td>SH46 - 02 - 24</td>\n",
       "      <td>SH46 - 02 - 24</td>\n",
       "      <td>Department of Classics, University of Cincinna...</td>\n",
       "      <td>unpublished unassigned ?</td>\n",
       "      <td>UC CSC 1950</td>\n",
       "      <td>Puzriš-Dagān</td>\n",
       "      <td>BDTNS</td>\n",
       "    </tr>\n",
       "    <tr>\n",
       "      <th>15669</th>\n",
       "      <td>P481395</td>\n",
       "      <td>SS02 - 02 - 00</td>\n",
       "      <td>SS02 - 02 - 00</td>\n",
       "      <td>Department of Classics, University of Cincinna...</td>\n",
       "      <td>unpublished unassigned ?</td>\n",
       "      <td>UC CSC 1954</td>\n",
       "      <td>Puzriš-Dagān</td>\n",
       "      <td>BDTNS</td>\n",
       "    </tr>\n",
       "    <tr>\n",
       "      <th>15670</th>\n",
       "      <td>P517012</td>\n",
       "      <td>NaN</td>\n",
       "      <td>NaN</td>\n",
       "      <td>NaN</td>\n",
       "      <td>CDLI Seals 013964 (composite)</td>\n",
       "      <td>NaN</td>\n",
       "      <td>Puzriš-Dagan (mod. Drehem)</td>\n",
       "      <td>ORACC</td>\n",
       "    </tr>\n",
       "  </tbody>\n",
       "</table>\n",
       "<p>15671 rows × 8 columns</p>\n",
       "</div>"
      ],
      "text/plain": [
       "      Unnamed: 0      date_of_origin    dates_referenced  \\\n",
       "0        P100041      SSXX - 00 - 00      SSXX - 00 - 00   \n",
       "1        P100189      SH46 - 08 - 05      SH46 - 08 - 05   \n",
       "2        P100190      SH47 - 07 - 29      SH47 - 07 - 29   \n",
       "3        P100191      AS01 - 03 - 24      AS01 - 03 - 24   \n",
       "4        P100211      AS01 - 12 - 11      AS01 - 12 - 11   \n",
       "...          ...                 ...                 ...   \n",
       "15666    P456164                 NaN                 NaN   \n",
       "15667    P459158  Ibbi-Suen.00.00.00  Ibbi-Suen.00.00.00   \n",
       "15668    P481391      SH46 - 02 - 24      SH46 - 02 - 24   \n",
       "15669    P481395      SS02 - 02 - 00      SS02 - 02 - 00   \n",
       "15670    P517012                 NaN                 NaN   \n",
       "\n",
       "                                              collection  \\\n",
       "0                           Louvre Museum, Paris, France   \n",
       "1                           Louvre Museum, Paris, France   \n",
       "2                           Louvre Museum, Paris, France   \n",
       "3                           Louvre Museum, Paris, France   \n",
       "4                 Museum of Fine Arts, Budapest, Hungary   \n",
       "...                                                  ...   \n",
       "15666                                                NaN   \n",
       "15667                      private: anonymous, unlocated   \n",
       "15668  Department of Classics, University of Cincinna...   \n",
       "15669  Department of Classics, University of Cincinna...   \n",
       "15670                                                NaN   \n",
       "\n",
       "                 primary_publication         museum_no  \\\n",
       "0                            AAS 053          AO 20313   \n",
       "1                            AAS 211          AO 20039   \n",
       "2                            AAS 212          AO 20051   \n",
       "3                            AAS 213          AO 20074   \n",
       "4           ActSocHun Or 5-12, 156 2      MHBA 51.2400   \n",
       "...                              ...               ...   \n",
       "15666  CDLI Seals 003454 (composite)               NaN   \n",
       "15667   CDLI Seals 006338 (physical)  Anonymous 459158   \n",
       "15668       unpublished unassigned ?       UC CSC 1950   \n",
       "15669       unpublished unassigned ?       UC CSC 1954   \n",
       "15670  CDLI Seals 013964 (composite)               NaN   \n",
       "\n",
       "                      provenience metadata_source  \n",
       "0                    Puzriš-Dagān           BDTNS  \n",
       "1                    Puzriš-Dagān           BDTNS  \n",
       "2                    Puzriš-Dagān           BDTNS  \n",
       "3                    Puzriš-Dagān           BDTNS  \n",
       "4                    Puzriš-Dagān           BDTNS  \n",
       "...                           ...             ...  \n",
       "15666  Puzriš-Dagan (mod. Drehem)           ORACC  \n",
       "15667  Puzriš-Dagan (mod. Drehem)           ORACC  \n",
       "15668                Puzriš-Dagān           BDTNS  \n",
       "15669                Puzriš-Dagān           BDTNS  \n",
       "15670  Puzriš-Dagan (mod. Drehem)           ORACC  \n",
       "\n",
       "[15671 rows x 8 columns]"
      ]
     },
     "execution_count": 2,
     "metadata": {},
     "output_type": "execute_result"
    }
   ],
   "source": [
    "words_df = pd.read_csv('output/part_2_output.csv')\n",
    "#words_df = pd.read_pickle('output/part_2_output.p')\n",
    "\n",
    "catalogue_data = pd.read_csv('output/part_1_catalogue.csv')\n",
    "#catalogue_data = pd.read_pickle('output/part_1_catalogue.p')\n",
    "catalogue_data"
   ]
  },
  {
   "cell_type": "markdown",
   "id": "9b6d523c",
   "metadata": {
    "id": "ZeF5OQ06lE4G"
   },
   "source": [
    "## 1 Normalizing BDTNS Dates\n",
    "\n",
    "In the ORACC metadata the field `date_of_origin` is formatted as `Amar-Suen.05.10.03`, meaning \"5th regnal year of Amar-Suen; month 10, day 3\". The ORACC metadata are directly imported from CDLI. In general, BDTNS metadata tend to be more reliable than CDLI metadata. As such, wherever possible we have used the BDTNS date rather than the CDLI date. \n",
    "\n",
    "However, the strings for the dates are formatted differently in BDTNS. If the date were the same as the example given above, in the BDTNS format it would be represented by the string `AS05 - 10 - 03`. Moreover, BDTNS dates can sometimes contain additional information, like if the month was a diri month, or multiple dates on the same tablet. When present, this information could be of value later on, so we attempt to include as much of it as possible. In the following we will write two functions, the first to convert from BDTNS format to several numerical and boolean fields and the second to do the same for the CDLI format."
   ]
  },
  {
   "cell_type": "code",
   "execution_count": 3,
   "id": "0ba4d086",
   "metadata": {
    "id": "N5f9Jx0-eKdP"
   },
   "outputs": [],
   "source": [
    "def inner_normalize_bdtns_date(bdtns_date):\n",
    "    # the normalized time each king's reign began, with Ur-Namma's first year\n",
    "    # of rule as year 0.\n",
    "    reigns = {\n",
    "        'UN' : 0, \n",
    "        'SH' : 18, \n",
    "        'AS': 66, \n",
    "        'SS' : 75, \n",
    "        'IS' : 84\n",
    "    }\n",
    "    \n",
    "    # Sometimes a date string contains multiple dates seperated by '//'.\n",
    "    # In such a case we set the range of dates to go from the earliest\n",
    "    # date to the latest date.\n",
    "    if '//' in bdtns_date:\n",
    "        dates = [normalize_bdtns_date(date) for date in bdtns_date.split('//')]\n",
    "        return {\n",
    "            'min_year': min([date['min_year'] for date in dates]),\n",
    "            'max_year': max([date['max_year'] for date in dates]),\n",
    "            'min_month': min([date['min_month'] for date in dates]),\n",
    "            'max_month': max([date['max_month'] for date in dates]),\n",
    "            'diri_month': any([date['diri_month'] for date in dates]),\n",
    "            'min_day': min([date['min_day'] for date in dates]),\n",
    "            'max_day': max([date['max_day'] for date in dates]),\n",
    "            'questionable': any([date['questionable'] for date in dates]),\n",
    "            'other_meta_chars': any([date['other_meta_chars'] for date in dates]),\n",
    "            'multiple_dates': True\n",
    "        }\n",
    "\n",
    "    # there are several characters used as markers for metatextual information\n",
    "    # we remove them from our string and handle them seperately.\n",
    "    chars = ' d?]m+()l'\n",
    "    reduced_string = bdtns_date.upper()\n",
    "    for c in chars.upper():\n",
    "        reduced_string = reduced_string.replace(c, '')\n",
    "    date_list = reduced_string.split('-')\n",
    "    date_list = ['nan' if 'XX' in s else s for s in date_list]\n",
    "    try:\n",
    "        year = reigns[date_list[0][:2]] + float(date_list[0][-2:])\n",
    "    except KeyError:\n",
    "        year = float('nan')\n",
    "    month = float(date_list[1])\n",
    "    try:\n",
    "        day = float(date_list[2])\n",
    "    except IndexError:\n",
    "        day = float('nan')\n",
    "    return {\n",
    "            'min_year': year,\n",
    "            'max_year': year + 1,\n",
    "            'min_month': month,\n",
    "            'max_month': month + 1,\n",
    "            'diri_month': 'd' in bdtns_date,\n",
    "            'min_day': day,\n",
    "            'max_day': day + 1,\n",
    "            'questionable': '?' in bdtns_date,\n",
    "            'other_meta_chars': any([c in bdtns_date for c in chars[3:]]),\n",
    "            'multiple_dates': False\n",
    "            }\n",
    "\n",
    "# Lastly, we define a wrapper function to catch any errors thrown by our main function.\n",
    "# This is useful because the string was manually entered, so there are many edge cases,\n",
    "# each with only a few instances.\n",
    "def normalize_bdtns_date(bdtns_date):\n",
    "    try:\n",
    "        return inner_normalize_bdtns_date(bdtns_date)\n",
    "    except:\n",
    "        return {\n",
    "                  'min_year' : None,\n",
    "                  'max_year' : None,\n",
    "                  'min_month' : None,\n",
    "                  'max_month' : None,\n",
    "                  'min_day' : None,\n",
    "                  'max_day' : None,\n",
    "                  'diri_month' : None,\n",
    "                  'questionable' : None,\n",
    "                  'other_meta_chars': None,\n",
    "                  'multiple_dates' : None\n",
    "                }"
   ]
  },
  {
   "cell_type": "markdown",
   "id": "b7dd1bd8",
   "metadata": {
    "id": "ZQge9XB4XU08"
   },
   "source": [
    "## 2 Normalizing CDLI Date Strings"
   ]
  },
  {
   "cell_type": "markdown",
   "id": "2167ef96",
   "metadata": {
    "id": "7VGCnQY7NqpF"
   },
   "source": [
    "The next step is to convert the CDLI string representing the date into a numerical format. For months and days, this process is relatively straightforward: so long as the entry is legible we can convert the substring into a number. If it is illegible, we set it to `None`.\n",
    "\n",
    "When it comes to the year, however, the process is a bit more involved. Since the year number in the date string represents the year of the current king's reign, it does not by itself give us the absolute year. We account for this by adding the year the king began his reign to the year given in the date. The table below contains the values used to achieve this.\n",
    "\n",
    "| king | normalized years | regnal years|\n",
    "| ----- | ---------------- | ---------- |\n",
    "| Ur-Namma    | 1-18  |  18 |\n",
    "| Šulgi      | 19-66 |  48 |\n",
    "| Amar-Suen   | 67-75  |  9 |\n",
    "| Šū-Suen    | 76-84  |  9 |\n",
    "| Ibbi-Suen   | 85-108 | 24 |"
   ]
  },
  {
   "cell_type": "code",
   "execution_count": 4,
   "id": "94ef7790",
   "metadata": {
    "id": "Pus9Kx-5Uq2O"
   },
   "outputs": [],
   "source": [
    "def normalize_cdli_date(cdli_date):\n",
    "    # the normalized time each king's reign began, with Ur-Namma's first year\n",
    "    # of rule as year 0.\n",
    "    reigns = {\n",
    "                'Ur-Namma' : 0, \n",
    "                'Šulgi' : 18, \n",
    "                'Amar-Suen': 66, \n",
    "                'Šū-Suen' : 75, \n",
    "                'Ibbi-Suen' : 84 \n",
    "                }\n",
    "\n",
    "    # break if NaN or None (this means the date is illegible)\n",
    "    if type(cdli_date) is not str: \n",
    "        out = {\n",
    "                  'min_year' : None,\n",
    "                  'max_year' : None,\n",
    "                  'min_month' : None,\n",
    "                  'max_month' : None,\n",
    "                  'min_day' : None,\n",
    "                  'max_day' : None,\n",
    "                  'diri_month' : None,\n",
    "                  'questionable' : None,\n",
    "                  'other_meta_chars': None,\n",
    "                  'multiple_dates' : None\n",
    "            }\n",
    "        return out\n",
    "\n",
    "    decomposed_date = cdli_date.split('.')\n",
    "    decomposed_date[0] = reigns.get(decomposed_date[0])\n",
    "    if decomposed_date[0] is None:\n",
    "        decomposed_date[0] = float('nan')\n",
    "\n",
    "    # if a section of the year/month/day is illegible we replace that entry with NaN,\n",
    "    # otherwise we convert it to a float.\n",
    "    decomposed_date[1:] = list(map(lambda x: float(x) if x.isdigit() else float('nan'), decomposed_date[1:]))\n",
    "    try:\n",
    "        out = {\n",
    "                  'min_year' : decomposed_date[0] + decomposed_date[1],\n",
    "                  'max_year' : decomposed_date[0] + decomposed_date[1] + 1,\n",
    "                  'min_month' : decomposed_date[2],\n",
    "                  'max_month' : decomposed_date[2] + 1,\n",
    "                  'min_day' : decomposed_date[3],\n",
    "                  'max_day' : decomposed_date[3] + 1,\n",
    "                  'diri_month' : False,\n",
    "                  'questionable' : False,\n",
    "                  'other_meta_chars': False,\n",
    "                  'multiple_dates' : False\n",
    "            }\n",
    "        return out\n",
    "\n",
    "    except: # due to some edge cases in the formatting, the list can occasionally\n",
    "              # have length shorter than 4. If so, the date is partially illegible\n",
    "              # and can be ignored.\n",
    "        out = {\n",
    "                  'min_year' : None,\n",
    "                  'max_year' : None,\n",
    "                  'min_month' : None,\n",
    "                  'max_month' : None,\n",
    "                  'min_day' : None,\n",
    "                  'max_day' : None,\n",
    "                  'diri_month' : None,\n",
    "                  'questionable' : None,\n",
    "                  'other_meta_chars': None,\n",
    "                  'multiple_dates' : None\n",
    "            }\n",
    "        return out"
   ]
  },
  {
   "cell_type": "markdown",
   "id": "bfea4b51",
   "metadata": {
    "id": "ReAKcEhfd41X"
   },
   "source": [
    "## 3 Putting it all Together"
   ]
  },
  {
   "cell_type": "markdown",
   "id": "f7ba5a54",
   "metadata": {
    "id": "k_v_rBKiRZiX"
   },
   "source": [
    "Now that we have a way to convert our strings in either format, we are ready to apply it to the data. To do this we will\n",
    "\n",
    "1.   loop through each row of the input DataFrame\n",
    "2.   use the `metadata_source` field to determine the format of the date string\n",
    "3.   apply the appropriate function to the `date_of_origin` field to get a dictionary of our new fields\n",
    "4.   compile the results for each row into a list\n",
    "\n"
   ]
  },
  {
   "cell_type": "code",
   "execution_count": 5,
   "id": "b0efc2b7",
   "metadata": {
    "id": "veFm7uHmd3NY"
   },
   "outputs": [],
   "source": [
    "def add_normalized_columns(df):\n",
    "    row_list = []\n",
    "    # go through each row of the DataFrame\n",
    "    for index in df.index:\n",
    "        # get the date_of_origin string\n",
    "        date = df['date_of_origin'][index]\n",
    "        # select the appropriate function to convert using metadata_source\n",
    "        if df['metadata_source'][index] == 'BDTNS':\n",
    "            row = normalize_bdtns_date(date)\n",
    "        else:\n",
    "            row = normalize_cdli_date(date)\n",
    "        row['metadata_source'] = df['metadata_source'][index]\n",
    "        # add the result to a list\n",
    "        row_list.append(row)\n",
    "    return row_list"
   ]
  },
  {
   "cell_type": "markdown",
   "id": "a6f07e7d",
   "metadata": {
    "id": "JTVMOoafSDCA"
   },
   "source": [
    "Next, we process the dates given in `catalogue_data`. From this we will both add the information to our `words_df` variable, as well as include it in a standalone variable, `time_data`."
   ]
  },
  {
   "cell_type": "code",
   "execution_count": 22,
   "id": "8487756c",
   "metadata": {
    "id": "uppJLRuSshRL"
   },
   "outputs": [
    {
     "ename": "ValueError",
     "evalue": "You are trying to merge on object and int64 columns. If you wish to proceed you should use pd.concat",
     "output_type": "error",
     "traceback": [
      "\u001b[1;31m---------------------------------------------------------------------------\u001b[0m",
      "\u001b[1;31mValueError\u001b[0m                                Traceback (most recent call last)",
      "\u001b[1;32m<ipython-input-22-59724485cd3f>\u001b[0m in \u001b[0;36m<module>\u001b[1;34m\u001b[0m\n\u001b[0;32m      1\u001b[0m \u001b[0mresult\u001b[0m \u001b[1;33m=\u001b[0m \u001b[0madd_normalized_columns\u001b[0m\u001b[1;33m(\u001b[0m\u001b[0mcatalogue_data\u001b[0m\u001b[1;33m)\u001b[0m\u001b[1;33m\u001b[0m\u001b[1;33m\u001b[0m\u001b[0m\n\u001b[0;32m      2\u001b[0m \u001b[0mtime_data\u001b[0m \u001b[1;33m=\u001b[0m \u001b[0mpd\u001b[0m\u001b[1;33m.\u001b[0m\u001b[0mDataFrame\u001b[0m\u001b[1;33m(\u001b[0m\u001b[0mresult\u001b[0m\u001b[1;33m,\u001b[0m \u001b[0mindex\u001b[0m\u001b[1;33m=\u001b[0m\u001b[0mcatalogue_data\u001b[0m\u001b[1;33m.\u001b[0m\u001b[0mindex\u001b[0m\u001b[1;33m)\u001b[0m\u001b[1;33m\u001b[0m\u001b[1;33m\u001b[0m\u001b[0m\n\u001b[1;32m----> 3\u001b[1;33m \u001b[0mwords_df\u001b[0m \u001b[1;33m=\u001b[0m \u001b[0mwords_df\u001b[0m\u001b[1;33m.\u001b[0m\u001b[0mmerge\u001b[0m\u001b[1;33m(\u001b[0m\u001b[0mtime_data\u001b[0m\u001b[1;33m,\u001b[0m \u001b[0mleft_on\u001b[0m\u001b[1;33m=\u001b[0m\u001b[1;34m'id_text'\u001b[0m\u001b[1;33m,\u001b[0m \u001b[0mright_index\u001b[0m\u001b[1;33m=\u001b[0m\u001b[1;32mTrue\u001b[0m\u001b[1;33m)\u001b[0m\u001b[1;33m\u001b[0m\u001b[1;33m\u001b[0m\u001b[0m\n\u001b[0m",
      "\u001b[1;32mc:\\programdata\\miniconda3\\lib\\site-packages\\pandas\\core\\frame.py\u001b[0m in \u001b[0;36mmerge\u001b[1;34m(self, right, how, on, left_on, right_on, left_index, right_index, sort, suffixes, copy, indicator, validate)\u001b[0m\n\u001b[0;32m   7954\u001b[0m             \u001b[0mcopy\u001b[0m\u001b[1;33m=\u001b[0m\u001b[0mcopy\u001b[0m\u001b[1;33m,\u001b[0m\u001b[1;33m\u001b[0m\u001b[1;33m\u001b[0m\u001b[0m\n\u001b[0;32m   7955\u001b[0m             \u001b[0mindicator\u001b[0m\u001b[1;33m=\u001b[0m\u001b[0mindicator\u001b[0m\u001b[1;33m,\u001b[0m\u001b[1;33m\u001b[0m\u001b[1;33m\u001b[0m\u001b[0m\n\u001b[1;32m-> 7956\u001b[1;33m             \u001b[0mvalidate\u001b[0m\u001b[1;33m=\u001b[0m\u001b[0mvalidate\u001b[0m\u001b[1;33m,\u001b[0m\u001b[1;33m\u001b[0m\u001b[1;33m\u001b[0m\u001b[0m\n\u001b[0m\u001b[0;32m   7957\u001b[0m         )\n\u001b[0;32m   7958\u001b[0m \u001b[1;33m\u001b[0m\u001b[0m\n",
      "\u001b[1;32mc:\\programdata\\miniconda3\\lib\\site-packages\\pandas\\core\\reshape\\merge.py\u001b[0m in \u001b[0;36mmerge\u001b[1;34m(left, right, how, on, left_on, right_on, left_index, right_index, sort, suffixes, copy, indicator, validate)\u001b[0m\n\u001b[0;32m     85\u001b[0m         \u001b[0mcopy\u001b[0m\u001b[1;33m=\u001b[0m\u001b[0mcopy\u001b[0m\u001b[1;33m,\u001b[0m\u001b[1;33m\u001b[0m\u001b[1;33m\u001b[0m\u001b[0m\n\u001b[0;32m     86\u001b[0m         \u001b[0mindicator\u001b[0m\u001b[1;33m=\u001b[0m\u001b[0mindicator\u001b[0m\u001b[1;33m,\u001b[0m\u001b[1;33m\u001b[0m\u001b[1;33m\u001b[0m\u001b[0m\n\u001b[1;32m---> 87\u001b[1;33m         \u001b[0mvalidate\u001b[0m\u001b[1;33m=\u001b[0m\u001b[0mvalidate\u001b[0m\u001b[1;33m,\u001b[0m\u001b[1;33m\u001b[0m\u001b[1;33m\u001b[0m\u001b[0m\n\u001b[0m\u001b[0;32m     88\u001b[0m     )\n\u001b[0;32m     89\u001b[0m     \u001b[1;32mreturn\u001b[0m \u001b[0mop\u001b[0m\u001b[1;33m.\u001b[0m\u001b[0mget_result\u001b[0m\u001b[1;33m(\u001b[0m\u001b[1;33m)\u001b[0m\u001b[1;33m\u001b[0m\u001b[1;33m\u001b[0m\u001b[0m\n",
      "\u001b[1;32mc:\\programdata\\miniconda3\\lib\\site-packages\\pandas\\core\\reshape\\merge.py\u001b[0m in \u001b[0;36m__init__\u001b[1;34m(self, left, right, how, on, left_on, right_on, axis, left_index, right_index, sort, suffixes, copy, indicator, validate)\u001b[0m\n\u001b[0;32m    654\u001b[0m         \u001b[1;31m# validate the merge keys dtypes. We may need to coerce\u001b[0m\u001b[1;33m\u001b[0m\u001b[1;33m\u001b[0m\u001b[1;33m\u001b[0m\u001b[0m\n\u001b[0;32m    655\u001b[0m         \u001b[1;31m# to avoid incompatible dtypes\u001b[0m\u001b[1;33m\u001b[0m\u001b[1;33m\u001b[0m\u001b[1;33m\u001b[0m\u001b[0m\n\u001b[1;32m--> 656\u001b[1;33m         \u001b[0mself\u001b[0m\u001b[1;33m.\u001b[0m\u001b[0m_maybe_coerce_merge_keys\u001b[0m\u001b[1;33m(\u001b[0m\u001b[1;33m)\u001b[0m\u001b[1;33m\u001b[0m\u001b[1;33m\u001b[0m\u001b[0m\n\u001b[0m\u001b[0;32m    657\u001b[0m \u001b[1;33m\u001b[0m\u001b[0m\n\u001b[0;32m    658\u001b[0m         \u001b[1;31m# If argument passed to validate,\u001b[0m\u001b[1;33m\u001b[0m\u001b[1;33m\u001b[0m\u001b[1;33m\u001b[0m\u001b[0m\n",
      "\u001b[1;32mc:\\programdata\\miniconda3\\lib\\site-packages\\pandas\\core\\reshape\\merge.py\u001b[0m in \u001b[0;36m_maybe_coerce_merge_keys\u001b[1;34m(self)\u001b[0m\n\u001b[0;32m   1163\u001b[0m                     \u001b[0minferred_right\u001b[0m \u001b[1;32min\u001b[0m \u001b[0mstring_types\u001b[0m \u001b[1;32mand\u001b[0m \u001b[0minferred_left\u001b[0m \u001b[1;32mnot\u001b[0m \u001b[1;32min\u001b[0m \u001b[0mstring_types\u001b[0m\u001b[1;33m\u001b[0m\u001b[1;33m\u001b[0m\u001b[0m\n\u001b[0;32m   1164\u001b[0m                 ):\n\u001b[1;32m-> 1165\u001b[1;33m                     \u001b[1;32mraise\u001b[0m \u001b[0mValueError\u001b[0m\u001b[1;33m(\u001b[0m\u001b[0mmsg\u001b[0m\u001b[1;33m)\u001b[0m\u001b[1;33m\u001b[0m\u001b[1;33m\u001b[0m\u001b[0m\n\u001b[0m\u001b[0;32m   1166\u001b[0m \u001b[1;33m\u001b[0m\u001b[0m\n\u001b[0;32m   1167\u001b[0m             \u001b[1;31m# datetimelikes must match exactly\u001b[0m\u001b[1;33m\u001b[0m\u001b[1;33m\u001b[0m\u001b[1;33m\u001b[0m\u001b[0m\n",
      "\u001b[1;31mValueError\u001b[0m: You are trying to merge on object and int64 columns. If you wish to proceed you should use pd.concat"
     ]
    }
   ],
   "source": [
    "result = add_normalized_columns(catalogue_data)\n",
    "time_data = pd.DataFrame(result, index=catalogue_data.index)\n",
    "words_df = words_df.merge(time_data, left_on='id_text', right_index=True)"
   ]
  },
  {
   "cell_type": "markdown",
   "id": "78d5af1a",
   "metadata": {
    "id": "KHtnB1DQSkAz"
   },
   "source": [
    "At this stage, we can already get a bit more insight into our data using our newly added fields. For example, we can look at the number of tablets over time - even removing cases with uncertain or multiple dates."
   ]
  },
  {
   "cell_type": "code",
   "execution_count": 8,
   "id": "2b62d6be",
   "metadata": {
    "colab": {
     "base_uri": "https://localhost:8080/",
     "height": 283
    },
    "id": "-V8HH0jlWc47",
    "outputId": "85399112-9579-4252-e8e7-94b231348e76"
   },
   "outputs": [
    {
     "data": {
      "image/png": "[encoded data removed]",
      "text/plain": [
       "<Figure size 432x288 with 2 Axes>"
      ]
     },
     "metadata": {
      "needs_background": "light"
     },
     "output_type": "display_data"
    }
   ],
   "source": [
    "ax = time_data[(time_data['questionable'] == False)].hist(column='min_year', by='metadata_source', sharex=True, bins= range(30, 90))"
   ]
  },
  {
   "cell_type": "markdown",
   "id": "ccecf3cc",
   "metadata": {
    "id": "-53Lkz2mzFe7"
   },
   "source": [
    "## 4 Save Results in CSV file and Pickle\n",
    "Here we will save the `words_df` and `time_data` outputs from parts 1, 2, and 3."
   ]
  },
  {
   "cell_type": "code",
   "execution_count": null,
   "id": "f2c62cda",
   "metadata": {
    "id": "SDvcQVykzSh8"
   },
   "outputs": [],
   "source": [
    "words_df.to_csv('output/part_3_words_output.csv')\n",
    "words_df.to_pickle('output/part_3_words_output.p')\n",
    "\n",
    "time_data.to_csv('output/part_3_time_output.csv')\n",
    "time_data.to_pickle('output/part_3_time_output.p')"
   ]
  }
 ],
 "metadata": {
  "kernelspec": {
   "display_name": "Python 3",
   "language": "python",
   "name": "python3"
  },
  "language_info": {
   "codemirror_mode": {
    "name": "ipython",
    "version": 3
   },
   "file_extension": ".py",
   "mimetype": "text/x-python",
   "name": "python",
   "nbconvert_exporter": "python",
   "pygments_lexer": "ipython3",
   "version": "3.7.7"
  }
 },
 "nbformat": 4,
 "nbformat_minor": 5
}
