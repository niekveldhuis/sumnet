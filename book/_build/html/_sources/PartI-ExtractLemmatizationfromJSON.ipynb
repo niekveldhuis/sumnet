{
 "cells": [
  {
   "cell_type": "markdown",
   "id": "02e6fe4f",
   "metadata": {
    "id": "OIqS7gp5AQow"
   },
   "source": [
    "# I. Extract Lemmatization from JSON\n",
    "The code in this section will parse the [ORACC](http://oracc.org) JSON data of the Ur III corpus to extract lemmatization data. \n",
    "\n",
    "The output contains text IDs, line IDs, lemmas, and relevant other data. "
   ]
  },
  {
   "cell_type": "code",
   "execution_count": 3,
   "id": "7f379ed7",
   "metadata": {
    "id": "BZWUNypLXuO-"
   },
   "outputs": [],
   "source": [
    "#create necessary directories\n",
    "import os\n",
    "os.makedirs('jsonzip', exist_ok=True)\n",
    "os.makedirs('output', exist_ok=True)\n",
    "\n",
    "# import necessary libraries\n",
    "import pandas as pd\n",
    "from tqdm.auto import tqdm\n",
    "\n",
    "# import libraries for this section\n",
    "import requests\n",
    "import zipfile\n",
    "import json"
   ]
  },
  {
   "cell_type": "markdown",
   "id": "f5a85154",
   "metadata": {
    "id": "LATsj6zOAQo4"
   },
   "source": [
    "## 1 Download ORACC Data\n",
    "\n",
    "We will begin by downloading the lemmatization data from ORACC. This will be downloaded in the form of zipped JSON files which we will parse in the next subsection and store in a usable pandas dataframe. \n",
    "\n",
    "The ORACC database can be accessed via http://oracc.org/. As we are interested in the UR III data, we will use the project name to make the request. The project name corresponds to the last part of the url: http://oracc.org/epsd2/admin/ur3 and thus the project name is 'epsd2/admin/u3admin'. We are accessing the JSON through the API and so our request URL is http://build-oracc.museum.upenn.edu/json/epsd2-admin-ur3.\n",
    "\n",
    "If you are unfamiliar with using APIs and would like to learn how to do so in Python, this section of the Data 100 textbook might be helpful: http://www.textbook.ds100.org/ch/13/web_http.html\n",
    "\n",
    "**NOTE:** If you already have this data, you can skip this step as it can take quite a long time."
   ]
  },
  {
   "cell_type": "code",
   "execution_count": 4,
   "id": "5d0bbda1",
   "metadata": {
    "colab": {
     "base_uri": "https://localhost:8080/",
     "height": 86,
     "referenced_widgets": [
      "efad03670fab424d8fa530a5f4c9f023",
      "9af6ac76cf354592b87dd1bb6bc58f77",
      "3eb4591df6864618af5fe135419a3f12",
      "b91dbab302b646aca6ff0b4632da5699",
      "3a1334841795434d84b8d6d53e6630be",
      "feaec5d30cb74d028963cacdd755cde9",
      "9c60cd8ffe6f47aa850b3aba0691db90",
      "f3602470166246038f1d73b75c48f7f4"
     ]
    },
    "executionInfo": {
     "elapsed": 18475,
     "status": "ok",
     "timestamp": 1621881309686,
     "user": {
      "displayName": "Yashila Bordag",
      "photoUrl": "https://lh3.googleusercontent.com/a-/AOh14GjZVEeYeV_hnz32r9dwU1yPT5LQXSAHKUtmZvpOUQ=s64",
      "userId": "05395610717484735407"
     },
     "user_tz": 420
    },
    "id": "qGBC8ldXAQo8",
    "outputId": "94501b2a-193e-4806-8699-8f4a32cee690"
   },
   "outputs": [
    {
     "name": "stdout",
     "output_type": "stream",
     "text": [
      "Saving http://build-oracc.museum.upenn.edu/json/epsd2-admin-ur3.zip as jsonzip/epsd2-admin-ur3.zip\n"
     ]
    },
    {
     "data": {
      "application/vnd.jupyter.widget-view+json": {
       "model_id": "b36494795e994bd59b053619fbf22427",
       "version_major": 2,
       "version_minor": 0
      },
      "text/plain": [
       "HBox(children=(HTML(value='epsd2/admin/ur3'), FloatProgress(value=0.0, max=630772632.0), HTML(value='')))"
      ]
     },
     "metadata": {},
     "output_type": "display_data"
    },
    {
     "ename": "KeyboardInterrupt",
     "evalue": "",
     "output_type": "error",
     "traceback": [
      "\u001b[1;31m---------------------------------------------------------------------------\u001b[0m",
      "\u001b[1;31mKeyboardInterrupt\u001b[0m                         Traceback (most recent call last)",
      "\u001b[1;32m<ipython-input-4-2e5c5013c838>\u001b[0m in \u001b[0;36m<module>\u001b[1;34m\u001b[0m\n\u001b[0;32m     14\u001b[0m       \u001b[1;32mwith\u001b[0m \u001b[0mopen\u001b[0m\u001b[1;33m(\u001b[0m\u001b[0mfile_name\u001b[0m\u001b[1;33m,\u001b[0m \u001b[1;34m'wb'\u001b[0m\u001b[1;33m)\u001b[0m \u001b[1;32mas\u001b[0m \u001b[0mzip_file\u001b[0m\u001b[1;33m:\u001b[0m\u001b[1;33m\u001b[0m\u001b[1;33m\u001b[0m\u001b[0m\n\u001b[0;32m     15\u001b[0m         \u001b[1;31m#use tdqm to show download speed\u001b[0m\u001b[1;33m\u001b[0m\u001b[1;33m\u001b[0m\u001b[1;33m\u001b[0m\u001b[0m\n\u001b[1;32m---> 16\u001b[1;33m         \u001b[1;32mfor\u001b[0m \u001b[0mchunk\u001b[0m \u001b[1;32min\u001b[0m \u001b[0mrequest\u001b[0m\u001b[1;33m.\u001b[0m\u001b[0miter_content\u001b[0m\u001b[1;33m(\u001b[0m\u001b[0mchunk_size\u001b[0m\u001b[1;33m=\u001b[0m\u001b[0mCHUNK\u001b[0m\u001b[1;33m)\u001b[0m\u001b[1;33m:\u001b[0m\u001b[1;33m\u001b[0m\u001b[1;33m\u001b[0m\u001b[0m\n\u001b[0m\u001b[0;32m     17\u001b[0m           \u001b[0mtqdm_handler\u001b[0m\u001b[1;33m.\u001b[0m\u001b[0mupdate\u001b[0m\u001b[1;33m(\u001b[0m\u001b[0mlen\u001b[0m\u001b[1;33m(\u001b[0m\u001b[0mchunk\u001b[0m\u001b[1;33m)\u001b[0m\u001b[1;33m)\u001b[0m\u001b[1;33m\u001b[0m\u001b[1;33m\u001b[0m\u001b[0m\n\u001b[0;32m     18\u001b[0m           \u001b[0mzip_file\u001b[0m\u001b[1;33m.\u001b[0m\u001b[0mwrite\u001b[0m\u001b[1;33m(\u001b[0m\u001b[0mchunk\u001b[0m\u001b[1;33m)\u001b[0m\u001b[1;33m\u001b[0m\u001b[1;33m\u001b[0m\u001b[0m\n",
      "\u001b[1;32mc:\\programdata\\miniconda3\\lib\\site-packages\\requests\\models.py\u001b[0m in \u001b[0;36mgenerate\u001b[1;34m()\u001b[0m\n\u001b[0;32m    751\u001b[0m             \u001b[1;32mif\u001b[0m \u001b[0mhasattr\u001b[0m\u001b[1;33m(\u001b[0m\u001b[0mself\u001b[0m\u001b[1;33m.\u001b[0m\u001b[0mraw\u001b[0m\u001b[1;33m,\u001b[0m \u001b[1;34m'stream'\u001b[0m\u001b[1;33m)\u001b[0m\u001b[1;33m:\u001b[0m\u001b[1;33m\u001b[0m\u001b[1;33m\u001b[0m\u001b[0m\n\u001b[0;32m    752\u001b[0m                 \u001b[1;32mtry\u001b[0m\u001b[1;33m:\u001b[0m\u001b[1;33m\u001b[0m\u001b[1;33m\u001b[0m\u001b[0m\n\u001b[1;32m--> 753\u001b[1;33m                     \u001b[1;32mfor\u001b[0m \u001b[0mchunk\u001b[0m \u001b[1;32min\u001b[0m \u001b[0mself\u001b[0m\u001b[1;33m.\u001b[0m\u001b[0mraw\u001b[0m\u001b[1;33m.\u001b[0m\u001b[0mstream\u001b[0m\u001b[1;33m(\u001b[0m\u001b[0mchunk_size\u001b[0m\u001b[1;33m,\u001b[0m \u001b[0mdecode_content\u001b[0m\u001b[1;33m=\u001b[0m\u001b[1;32mTrue\u001b[0m\u001b[1;33m)\u001b[0m\u001b[1;33m:\u001b[0m\u001b[1;33m\u001b[0m\u001b[1;33m\u001b[0m\u001b[0m\n\u001b[0m\u001b[0;32m    754\u001b[0m                         \u001b[1;32myield\u001b[0m \u001b[0mchunk\u001b[0m\u001b[1;33m\u001b[0m\u001b[1;33m\u001b[0m\u001b[0m\n\u001b[0;32m    755\u001b[0m                 \u001b[1;32mexcept\u001b[0m \u001b[0mProtocolError\u001b[0m \u001b[1;32mas\u001b[0m \u001b[0me\u001b[0m\u001b[1;33m:\u001b[0m\u001b[1;33m\u001b[0m\u001b[1;33m\u001b[0m\u001b[0m\n",
      "\u001b[1;32mc:\\programdata\\miniconda3\\lib\\site-packages\\urllib3\\response.py\u001b[0m in \u001b[0;36mstream\u001b[1;34m(self, amt, decode_content)\u001b[0m\n\u001b[0;32m    574\u001b[0m         \u001b[1;32melse\u001b[0m\u001b[1;33m:\u001b[0m\u001b[1;33m\u001b[0m\u001b[1;33m\u001b[0m\u001b[0m\n\u001b[0;32m    575\u001b[0m             \u001b[1;32mwhile\u001b[0m \u001b[1;32mnot\u001b[0m \u001b[0mis_fp_closed\u001b[0m\u001b[1;33m(\u001b[0m\u001b[0mself\u001b[0m\u001b[1;33m.\u001b[0m\u001b[0m_fp\u001b[0m\u001b[1;33m)\u001b[0m\u001b[1;33m:\u001b[0m\u001b[1;33m\u001b[0m\u001b[1;33m\u001b[0m\u001b[0m\n\u001b[1;32m--> 576\u001b[1;33m                 \u001b[0mdata\u001b[0m \u001b[1;33m=\u001b[0m \u001b[0mself\u001b[0m\u001b[1;33m.\u001b[0m\u001b[0mread\u001b[0m\u001b[1;33m(\u001b[0m\u001b[0mamt\u001b[0m\u001b[1;33m=\u001b[0m\u001b[0mamt\u001b[0m\u001b[1;33m,\u001b[0m \u001b[0mdecode_content\u001b[0m\u001b[1;33m=\u001b[0m\u001b[0mdecode_content\u001b[0m\u001b[1;33m)\u001b[0m\u001b[1;33m\u001b[0m\u001b[1;33m\u001b[0m\u001b[0m\n\u001b[0m\u001b[0;32m    577\u001b[0m \u001b[1;33m\u001b[0m\u001b[0m\n\u001b[0;32m    578\u001b[0m                 \u001b[1;32mif\u001b[0m \u001b[0mdata\u001b[0m\u001b[1;33m:\u001b[0m\u001b[1;33m\u001b[0m\u001b[1;33m\u001b[0m\u001b[0m\n",
      "\u001b[1;32mc:\\programdata\\miniconda3\\lib\\site-packages\\urllib3\\response.py\u001b[0m in \u001b[0;36mread\u001b[1;34m(self, amt, decode_content, cache_content)\u001b[0m\n\u001b[0;32m    517\u001b[0m             \u001b[1;32melse\u001b[0m\u001b[1;33m:\u001b[0m\u001b[1;33m\u001b[0m\u001b[1;33m\u001b[0m\u001b[0m\n\u001b[0;32m    518\u001b[0m                 \u001b[0mcache_content\u001b[0m \u001b[1;33m=\u001b[0m \u001b[1;32mFalse\u001b[0m\u001b[1;33m\u001b[0m\u001b[1;33m\u001b[0m\u001b[0m\n\u001b[1;32m--> 519\u001b[1;33m                 \u001b[0mdata\u001b[0m \u001b[1;33m=\u001b[0m \u001b[0mself\u001b[0m\u001b[1;33m.\u001b[0m\u001b[0m_fp\u001b[0m\u001b[1;33m.\u001b[0m\u001b[0mread\u001b[0m\u001b[1;33m(\u001b[0m\u001b[0mamt\u001b[0m\u001b[1;33m)\u001b[0m \u001b[1;32mif\u001b[0m \u001b[1;32mnot\u001b[0m \u001b[0mfp_closed\u001b[0m \u001b[1;32melse\u001b[0m \u001b[1;34mb\"\"\u001b[0m\u001b[1;33m\u001b[0m\u001b[1;33m\u001b[0m\u001b[0m\n\u001b[0m\u001b[0;32m    520\u001b[0m                 if (\n\u001b[0;32m    521\u001b[0m                     \u001b[0mamt\u001b[0m \u001b[1;33m!=\u001b[0m \u001b[1;36m0\u001b[0m \u001b[1;32mand\u001b[0m \u001b[1;32mnot\u001b[0m \u001b[0mdata\u001b[0m\u001b[1;33m\u001b[0m\u001b[1;33m\u001b[0m\u001b[0m\n",
      "\u001b[1;32mc:\\programdata\\miniconda3\\lib\\http\\client.py\u001b[0m in \u001b[0;36mread\u001b[1;34m(self, amt)\u001b[0m\n\u001b[0;32m    455\u001b[0m             \u001b[1;31m# Amount is given, implement using readinto\u001b[0m\u001b[1;33m\u001b[0m\u001b[1;33m\u001b[0m\u001b[1;33m\u001b[0m\u001b[0m\n\u001b[0;32m    456\u001b[0m             \u001b[0mb\u001b[0m \u001b[1;33m=\u001b[0m \u001b[0mbytearray\u001b[0m\u001b[1;33m(\u001b[0m\u001b[0mamt\u001b[0m\u001b[1;33m)\u001b[0m\u001b[1;33m\u001b[0m\u001b[1;33m\u001b[0m\u001b[0m\n\u001b[1;32m--> 457\u001b[1;33m             \u001b[0mn\u001b[0m \u001b[1;33m=\u001b[0m \u001b[0mself\u001b[0m\u001b[1;33m.\u001b[0m\u001b[0mreadinto\u001b[0m\u001b[1;33m(\u001b[0m\u001b[0mb\u001b[0m\u001b[1;33m)\u001b[0m\u001b[1;33m\u001b[0m\u001b[1;33m\u001b[0m\u001b[0m\n\u001b[0m\u001b[0;32m    458\u001b[0m             \u001b[1;32mreturn\u001b[0m \u001b[0mmemoryview\u001b[0m\u001b[1;33m(\u001b[0m\u001b[0mb\u001b[0m\u001b[1;33m)\u001b[0m\u001b[1;33m[\u001b[0m\u001b[1;33m:\u001b[0m\u001b[0mn\u001b[0m\u001b[1;33m]\u001b[0m\u001b[1;33m.\u001b[0m\u001b[0mtobytes\u001b[0m\u001b[1;33m(\u001b[0m\u001b[1;33m)\u001b[0m\u001b[1;33m\u001b[0m\u001b[1;33m\u001b[0m\u001b[0m\n\u001b[0;32m    459\u001b[0m         \u001b[1;32melse\u001b[0m\u001b[1;33m:\u001b[0m\u001b[1;33m\u001b[0m\u001b[1;33m\u001b[0m\u001b[0m\n",
      "\u001b[1;32mc:\\programdata\\miniconda3\\lib\\http\\client.py\u001b[0m in \u001b[0;36mreadinto\u001b[1;34m(self, b)\u001b[0m\n\u001b[0;32m    499\u001b[0m         \u001b[1;31m# connection, and the user is reading more bytes than will be provided\u001b[0m\u001b[1;33m\u001b[0m\u001b[1;33m\u001b[0m\u001b[1;33m\u001b[0m\u001b[0m\n\u001b[0;32m    500\u001b[0m         \u001b[1;31m# (for example, reading in 1k chunks)\u001b[0m\u001b[1;33m\u001b[0m\u001b[1;33m\u001b[0m\u001b[1;33m\u001b[0m\u001b[0m\n\u001b[1;32m--> 501\u001b[1;33m         \u001b[0mn\u001b[0m \u001b[1;33m=\u001b[0m \u001b[0mself\u001b[0m\u001b[1;33m.\u001b[0m\u001b[0mfp\u001b[0m\u001b[1;33m.\u001b[0m\u001b[0mreadinto\u001b[0m\u001b[1;33m(\u001b[0m\u001b[0mb\u001b[0m\u001b[1;33m)\u001b[0m\u001b[1;33m\u001b[0m\u001b[1;33m\u001b[0m\u001b[0m\n\u001b[0m\u001b[0;32m    502\u001b[0m         \u001b[1;32mif\u001b[0m \u001b[1;32mnot\u001b[0m \u001b[0mn\u001b[0m \u001b[1;32mand\u001b[0m \u001b[0mb\u001b[0m\u001b[1;33m:\u001b[0m\u001b[1;33m\u001b[0m\u001b[1;33m\u001b[0m\u001b[0m\n\u001b[0;32m    503\u001b[0m             \u001b[1;31m# Ideally, we would raise IncompleteRead if the content-length\u001b[0m\u001b[1;33m\u001b[0m\u001b[1;33m\u001b[0m\u001b[1;33m\u001b[0m\u001b[0m\n",
      "\u001b[1;32mc:\\programdata\\miniconda3\\lib\\socket.py\u001b[0m in \u001b[0;36mreadinto\u001b[1;34m(self, b)\u001b[0m\n\u001b[0;32m    587\u001b[0m         \u001b[1;32mwhile\u001b[0m \u001b[1;32mTrue\u001b[0m\u001b[1;33m:\u001b[0m\u001b[1;33m\u001b[0m\u001b[1;33m\u001b[0m\u001b[0m\n\u001b[0;32m    588\u001b[0m             \u001b[1;32mtry\u001b[0m\u001b[1;33m:\u001b[0m\u001b[1;33m\u001b[0m\u001b[1;33m\u001b[0m\u001b[0m\n\u001b[1;32m--> 589\u001b[1;33m                 \u001b[1;32mreturn\u001b[0m \u001b[0mself\u001b[0m\u001b[1;33m.\u001b[0m\u001b[0m_sock\u001b[0m\u001b[1;33m.\u001b[0m\u001b[0mrecv_into\u001b[0m\u001b[1;33m(\u001b[0m\u001b[0mb\u001b[0m\u001b[1;33m)\u001b[0m\u001b[1;33m\u001b[0m\u001b[1;33m\u001b[0m\u001b[0m\n\u001b[0m\u001b[0;32m    590\u001b[0m             \u001b[1;32mexcept\u001b[0m \u001b[0mtimeout\u001b[0m\u001b[1;33m:\u001b[0m\u001b[1;33m\u001b[0m\u001b[1;33m\u001b[0m\u001b[0m\n\u001b[0;32m    591\u001b[0m                 \u001b[0mself\u001b[0m\u001b[1;33m.\u001b[0m\u001b[0m_timeout_occurred\u001b[0m \u001b[1;33m=\u001b[0m \u001b[1;32mTrue\u001b[0m\u001b[1;33m\u001b[0m\u001b[1;33m\u001b[0m\u001b[0m\n",
      "\u001b[1;31mKeyboardInterrupt\u001b[0m: "
     ]
    }
   ],
   "source": [
    "project = 'epsd2/admin/ur3' #define project to download.\n",
    "\n",
    "CHUNK = 1024 #define chunk size\n",
    "\n",
    "proj = project.replace('/', '-')\n",
    "url = \"http://build-oracc.museum.upenn.edu/json/%s.zip\" % proj\n",
    "file_name = \"jsonzip/%s.zip\" % proj\n",
    "with requests.get(url, stream=True) as request:\n",
    "    if request.status_code == 200:\n",
    "      #if file is accessible, download\n",
    "      tqdm.write('Saving ' + url + ' as ' + file_name)\n",
    "      total_size = int(request.headers.get('content-length', 0))\n",
    "      tqdm_handler = tqdm(total=total_size, unit='B', unit_scale=True, desc = project)\n",
    "      with open(file_name, 'wb') as zip_file:\n",
    "        #use tdqm to show download speed\n",
    "        for chunk in request.iter_content(chunk_size=CHUNK):\n",
    "          tqdm_handler.update(len(chunk))\n",
    "          zip_file.write(chunk)\n",
    "    else:\n",
    "      tqdm.write(\"WARNING: %s does not exist.\" % url)"
   ]
  },
  {
   "cell_type": "markdown",
   "id": "d8b84c0f",
   "metadata": {
    "id": "vr1mBuC6YI6c"
   },
   "source": [
    "## 2 Download BTDNS Data\n",
    "\n",
    "Go to http://bdtns.filol.csic.es/index.php?p=formulario_urIII.\n",
    "\n",
    "In the Provenience drop down menu choose \"Puzriš-Dagan\" and hit \"Search\". This will give a list of about 15,000 tablets from Drehem. \n",
    "\n",
    "Now, hit \"Export\" on the left and in the pop-up window select every box except \"Transliteration of the whole text(s)\". Hit \"export\". This will produce a .txt file and you'll need to put it into the \"bdtns_metadata\" folder.\n",
    "\n",
    "The name of the .txt file changes everytime we download, so you'll need to change the following cell."
   ]
  },
  {
   "cell_type": "markdown",
   "id": "d8cfc1f1",
   "metadata": {
    "id": "AcwIcIFOYNqa"
   },
   "source": [
    "### 2.1 Extract Data from .txt file."
   ]
  },
  {
   "cell_type": "code",
   "execution_count": null,
   "id": "7d11ef08",
   "metadata": {
    "colab": {
     "base_uri": "https://localhost:8080/",
     "height": 595
    },
    "executionInfo": {
     "elapsed": 1170,
     "status": "ok",
     "timestamp": 1621881310852,
     "user": {
      "displayName": "Yashila Bordag",
      "photoUrl": "https://lh3.googleusercontent.com/a-/AOh14GjZVEeYeV_hnz32r9dwU1yPT5LQXSAHKUtmZvpOUQ=s64",
      "userId": "05395610717484735407"
     },
     "user_tz": 420
    },
    "id": "ImOZSr_XYMD8",
    "outputId": "db459755-6a34-4c8f-af19-0f27a33daeca"
   },
   "outputs": [],
   "source": [
    "bdtns_catalogue_data = pd.read_csv('https://raw.githubusercontent.com/niekveldhuis/sumnet/master/QUERY_catalogue.txt', delimiter='\\t')\n",
    "bdtns_catalogue_data = bdtns_catalogue_data.set_index('CDLI_no')\n",
    "bdtns_catalogue_data"
   ]
  },
  {
   "cell_type": "markdown",
   "id": "4f20b907",
   "metadata": {
    "id": "Aq3h99YoYSln"
   },
   "source": [
    "### 2.2 Filtering Data\n",
    "\n",
    "Filter data for Puzriš-Dagān tablets and drop tablets with null p-numbers or without dates."
   ]
  },
  {
   "cell_type": "code",
   "execution_count": null,
   "id": "a3acdc79",
   "metadata": {
    "colab": {
     "base_uri": "https://localhost:8080/",
     "height": 612
    },
    "executionInfo": {
     "elapsed": 8,
     "status": "ok",
     "timestamp": 1621881310853,
     "user": {
      "displayName": "Yashila Bordag",
      "photoUrl": "https://lh3.googleusercontent.com/a-/AOh14GjZVEeYeV_hnz32r9dwU1yPT5LQXSAHKUtmZvpOUQ=s64",
      "userId": "05395610717484735407"
     },
     "user_tz": 420
    },
    "id": "CbVRsf4rYUqA",
    "outputId": "0bb2f2b2-5ed0-48db-bb1a-40741853e9aa"
   },
   "outputs": [],
   "source": [
    "bdtns_catalogue_data = bdtns_catalogue_data[(bdtns_catalogue_data['Provenience']\n",
    "    =='Puzriš-Dagān') | (bdtns_catalogue_data['Provenience']\n",
    "    =='Puzriš-Dagān (?)')] #select for Puzriš-Dagān\n",
    "\n",
    "#select for non-null p_numbers and non-null dates\n",
    "bdtns_catalogue_data = bdtns_catalogue_data.loc[~bdtns_catalogue_data.index.isnull(), :]\n",
    "bdtns_catalogue_data = bdtns_catalogue_data[~bdtns_catalogue_data['Date'].isnull()]\n",
    "\n",
    "bdtns_catalogue_data"
   ]
  },
  {
   "cell_type": "markdown",
   "id": "e7ef0dfc",
   "metadata": {
    "id": "Va40q5jIVp8E"
   },
   "source": [
    "## 3 Parsing the Data\n",
    "\n",
    "In this subsection we will parse the imported `json` data into a list we can later use to construct a `pandas` dataframe."
   ]
  },
  {
   "cell_type": "markdown",
   "id": "f4974136",
   "metadata": {
    "id": "wE5_q_UrAQpA"
   },
   "source": [
    "### 3.1 The `parse_ORACC_json()` function\n",
    "Here we define the `parse_ORACC_json()` function, which will recursively parse the `json` files provided by ORACC until it finds the relevant lemma data. It takes in the an ORACC json data structure, the associated meta_data, and some necessary keys and returns a list of lemma python dictionary entries which we can use to constuct a pandas dataframe.\n",
    "\n",
    "The `json` files consist of a hierarchy of `cdl` nodes; only the nodes which have 'f' or 'strict' keys contain lemmatization data. The function goes down this hierarchy by recursively calling itself when a new `cdl` node is encountered. For more information about the data hierarchy in the [ORACC](http://oracc.org) `json` files, see [ORACC Open Data](http://oracc.org/doc/opendata/index.html).\n",
    "\n",
    "The argument of the `parse_ORACC_json()` function is a `JSON` object, essentially a Python dictionary that initially contains the entire contents of the original JSON file. The code works with a list of `JSON` dictionaries associated with the `cdl` key. Iterating through these dictionaries, if a dictionary contains another `cdl` node, the function calls itself with this lower-level dictionary as its argument `lemmatized_data_json`. Then the function will continue to recurse deeper into the data until it does not encounter any more `cdl` keys. Then, we are left with individual words. The code checks for a key `f`, and appendeds it's data as a `lemma` to the list `lemma_list`. The list `lemm_list`, which is initiated at the start of the function, is extended with the new lemmas at the end of each recursion, where each `lemma` dictionary represents a single word.\n",
    "\n",
    "The variable `id_text` consists of a project abbreviation, such as `blms` or `cams/gkab` plus a text ID, in the format `cams/gkab/P338616` or `dcclt/Q000039`. \n",
    "\n",
    "The variable `ftype` is used to denote if a node is a year name (`yn`) or not. \n",
    "\n",
    "The field `word_id` consists of three parts, namely a text ID, line ID, and word ID, in the format `Q000039.76.2` meaning: the second word in line 76 of text object `Q000039`. Note that `76` is not a line number strictly speaking but an object reference within the text object. Things like horizontal rulings, columns, and breaks also get object references. The `word_id` field allows us to put lines, breaks, and horizontal drawings together in the proper order.\n",
    "\n",
    "The field `label` is a human-legible label that refers to a line or another part of the text; it may look like `o i 23` (obverse column 1 line 23) or `r v 23'` (reverse column 5 line 23 prime). The `label` field is used in online [ORACC](http://oracc.org) editions to indicate line numbers. The `date`, `dates_references`, `primary_publication`, `collection`, and `museum_no` fields are also metadata which were taken from the ORACC catalogue.\n",
    "\n",
    "The fields `extent`, `scope`, and `state` give metatextual data about the condition of the object; they capture the number of broken lines or columns and similar information. "
   ]
  },
  {
   "cell_type": "code",
   "execution_count": null,
   "id": "44a9f738",
   "metadata": {
    "id": "2mHDFLtsAQpA"
   },
   "outputs": [],
   "source": [
    "def parse_ORACC_json(lemmatized_data_json, meta_data, dollar_keys):\n",
    "    lemma_list = []\n",
    "    for JSONobject in lemmatized_data_json['cdl']:\n",
    "        if 'cdl' in JSONobject: \n",
    "            lemma_list.extend(parse_ORACC_json(JSONobject, meta_data, dollar_keys))\n",
    "        if 'label' in JSONobject:\n",
    "            meta_data['label'] = JSONobject['label']\n",
    "        if 'f' in JSONobject:\n",
    "            lemma = JSONobject['f']\n",
    "            lemma['ftype'] = JSONobject.get('ftype')\n",
    "            lemma['id_word'] = JSONobject['ref']\n",
    "            lemma['label'] = meta_data['label']\n",
    "            lemma['id_text'] = meta_data['id_text']\n",
    "            lemma['date'] = meta_data['date']\n",
    "            lemma['dates_references'] = meta_data['dates_references']\n",
    "            lemma['publication'] = meta_data['publication']\n",
    "            lemma['collection'] = meta_data['collection']\n",
    "            lemma['museum_no'] = meta_data['museum_no']\n",
    "            lemma['metadata_source'] = meta_data['metadata_source']\n",
    "            lemma_list.append(lemma)\n",
    "        if 'strict' in JSONobject and JSONobject['strict'] == '1':\n",
    "            lemma = {key: JSONobject[key] for key in dollar_keys}\n",
    "            lemma['id_word'] = JSONobject['ref']\n",
    "            lemma['id_text'] = meta_data['id_text']\n",
    "            lemma['date'] = meta_data['date']\n",
    "            lemma['dates_references'] = meta_data['dates_references']\n",
    "            lemma['publication'] = meta_data['publication']\n",
    "            lemma['collection'] = meta_data['collection']\n",
    "            lemma['museum_no'] = meta_data['museum_no']\n",
    "            lemma['metadata_source'] = meta_data['metadata_source']\n",
    "            lemma_list.append(lemma)\n",
    "    return lemma_list"
   ]
  },
  {
   "cell_type": "markdown",
   "id": "18d1f083",
   "metadata": {
    "id": "kDLll43HAQpD"
   },
   "source": [
    "### 3.2 Getting Catalogue Data for the  ORACC Drehem Tablets.\n",
    "\n",
    "Before constructing our dataframe of lemmatized data, we will construct a dataframe of Drehem tablet metadata to filter and augment the data with. \n",
    "\n",
    "We do this by loading the data from the `catalogue.json` into a dataframe and selecting the pnumbers where the provenience is indicated to be Puzriš-Dagan or modern Drehem."
   ]
  },
  {
   "cell_type": "code",
   "execution_count": null,
   "id": "22a3bc56",
   "metadata": {
    "colab": {
     "base_uri": "https://localhost:8080/",
     "height": 891
    },
    "executionInfo": {
     "elapsed": 6044,
     "status": "ok",
     "timestamp": 1621881316891,
     "user": {
      "displayName": "Yashila Bordag",
      "photoUrl": "https://lh3.googleusercontent.com/a-/AOh14GjZVEeYeV_hnz32r9dwU1yPT5LQXSAHKUtmZvpOUQ=s64",
      "userId": "05395610717484735407"
     },
     "user_tz": 420
    },
    "id": "azkCRmm-AQpD",
    "outputId": "6774a152-2746-46b0-f86f-f0ecac702b3e"
   },
   "outputs": [],
   "source": [
    "zip_file = zipfile.ZipFile(\"jsonzip/%s.zip\" % proj)    # create a Zipfile object\n",
    "\n",
    "files = zip_file.namelist()\n",
    "oracc_json_str = zip_file.read(\"%s/catalogue.json\" % project).decode('utf-8') #read and decode the json file of one particular text\n",
    "oracc_catalogue_json = json.loads(oracc_json_str)['members']\n",
    "\n",
    "zip_file.close()\n",
    "\n",
    "#create combined catalogue_data\n",
    "oracc_catalogue_data = pd.DataFrame.from_dict(oracc_catalogue_json, orient='index')\n",
    "catalogue_data = oracc_catalogue_data[(oracc_catalogue_data['provenience'] \n",
    "    == 'Puzriš-Dagan (mod. Drehem)') | \n",
    "    oracc_catalogue_data.index.isin(bdtns_catalogue_data.index)]\n",
    "    #choose catalogue entries marked as Puzriš-Dagan in either ORACC or BDTNS\n",
    "\n",
    "#add bdtns dates to oracc dataset and name metadata source\n",
    "#added line to suppress setting with copy warning\n",
    "pd.options.mode.chained_assignment = None  # default='warn'\n",
    "in_bdtns_index = catalogue_data.index.isin(bdtns_catalogue_data.index)\n",
    "catalogue_data.loc[in_bdtns_index, 'date_of_origin'] = bdtns_catalogue_data['Date']\n",
    "catalogue_data.loc[in_bdtns_index, 'dates_referenced'] = bdtns_catalogue_data['Date']\n",
    "catalogue_data.loc[in_bdtns_index, 'provenience'] = bdtns_catalogue_data['Provenience']\n",
    "catalogue_data['metadata_source'] = ['BDTNS' if in_bdtns else 'ORACC' for in_bdtns in in_bdtns_index]\n",
    "\n",
    "\n",
    "catalogue_data = catalogue_data[['date_of_origin', 'dates_referenced', 'collection',\n",
    "                                 'primary_publication', 'museum_no', 'provenience',\n",
    "                                 'metadata_source']]\n",
    "\n",
    "catalogue_data"
   ]
  },
  {
   "cell_type": "markdown",
   "id": "40c7cd13",
   "metadata": {
    "id": "P-BlZxP_WXWJ"
   },
   "source": [
    "### 3.3 Call the `parse_ORACC_json()` function for every `JSON` file\n",
    "Here we will use the `parse_ORACC_json()` and the `catalogue` dataframe to construct the `words_df` dataframe which we will be using throughout the rest of the code. The project `zip` file downloaded earlier contains a directory that is called `corpusjson` that contains a JSON file for every text that is available in that corpus. The files are named using their text IDs in the pattern `P######.json` (or `Q######.json` or `X######.json`).\n",
    "\n",
    "The function `namelist()` of the `zipfile` package is used to create a list of the names of all the files in the ZIP. From this list we select all the file names in the `corpusjson` directory with extension `.json` (this way we exclude the name of the directory itself). \n",
    "\n",
    "Each of these files is read from the `zip` file and loaded with the command `json.loads()`, which transforms the string into a proper JSON object. \n",
    "\n",
    "This JSON object (essentially a Python dictionary), which is called `data_json` is now sent to the `parse_ORACC_json()` function. The function adds lemmata to the `lemm_l` list. In the end, `lemm_l` will contain as many list elements as there are words in all the texts in the projects requested.\n",
    "\n",
    "The dictionary `meta_d` is created to hold temporary information. The value of the key `id_text` is updated in the main process every time a new JSON file is opened and send to the `parsejson()` function. The `parsejson()` function itself will change values or add new keys, depending on the information found while iterating through the JSON file. When a new lemma row is created, `parse_ORACC_json()` will supply data such as `id_text`, `label` and (potentially) other information from `meta_d`."
   ]
  },
  {
   "cell_type": "code",
   "execution_count": null,
   "id": "e8fa916a",
   "metadata": {
    "colab": {
     "base_uri": "https://localhost:8080/",
     "height": 66,
     "referenced_widgets": [
      "5ac7d4e9cdf8487c83d4fc6d9cf2a627",
      "0a9b8e2520584c27a836b644afd7e481",
      "73cc238e24904ed2844ee61591e57c23",
      "60d5227367e44905b23e11cfe94362cf",
      "c1661d5f3c494df6b4fdd9a43496c9fc",
      "156af6cb460d4a239c4b4e5e1ca4ea3f",
      "8ce75464f8ff4cefbb4ce33d0259e88a",
      "f7f3c11c7aa14dcc949714cccb02cd55"
     ]
    },
    "executionInfo": {
     "elapsed": 38351,
     "status": "ok",
     "timestamp": 1621881355238,
     "user": {
      "displayName": "Yashila Bordag",
      "photoUrl": "https://lh3.googleusercontent.com/a-/AOh14GjZVEeYeV_hnz32r9dwU1yPT5LQXSAHKUtmZvpOUQ=s64",
      "userId": "05395610717484735407"
     },
     "user_tz": 420
    },
    "id": "euglVfWjWceR",
    "outputId": "b18e268b-a8a3-43ff-be29-484c699ccaac"
   },
   "outputs": [],
   "source": [
    "lemma_list = []\n",
    "meta_data = {'label': None}\n",
    "dollar_keys = ['extent', 'scope', 'state']\n",
    "\n",
    "try:\n",
    "  zip_file = zipfile.ZipFile(file_name)       # create a Zipfile object\n",
    "except:\n",
    "  print(file_name, 'does not exist or is not a proper ZIP file')\n",
    "\n",
    "drehem_list_oracc = catalogue_data.index.to_list()\n",
    "files = [project + '/corpusjson/' + p_number + '.json' for p_number in drehem_list_oracc]    #that holds all the P, Q, and X numbers.\n",
    "for lemma_file in tqdm(files, desc = project):       #iterate over the file names\n",
    "  id_text = project + lemma_file[-13:-5] # id_text is, for instance, blms/P414332\n",
    "\n",
    "  p_number = lemma_file[-12:-5]\n",
    "  meta_data['id_text'] = id_text\n",
    "  meta_data['date'] = catalogue_data.loc[p_number]['date_of_origin']\n",
    "  meta_data['dates_references'] = catalogue_data.loc[p_number]['dates_referenced']\n",
    "  meta_data['publication'] = catalogue_data.loc[p_number]['primary_publication']\n",
    "  meta_data['collection'] = catalogue_data.loc[p_number]['collection']\n",
    "  meta_data['museum_no'] = catalogue_data.loc[p_number]['museum_no']\n",
    "  meta_data['metadata_source'] = catalogue_data.loc[p_number]['metadata_source']\n",
    "\n",
    "  try:\n",
    "    json_str = zip_file.read(lemma_file).decode('utf-8')         #read and decode the json file of one particular text\n",
    "    lemmatized_data_json = json.loads(json_str)                # make it into a json object (essentially a dictionary)\n",
    "    lemma_list.extend(parse_ORACC_json(lemmatized_data_json, meta_data, dollar_keys))               # and send to the parse_ORACC_json() function\n",
    "  except:\n",
    "    print(id_text, 'is not available or not complete')\n",
    "\n",
    "zip_file.close()"
   ]
  },
  {
   "cell_type": "markdown",
   "id": "20d63b67",
   "metadata": {
    "id": "y31XbdEtAQpG"
   },
   "source": [
    "## 4 Data Structuring\n",
    "\n",
    "Here we construct our `pandas` dataframe.\n"
   ]
  },
  {
   "cell_type": "markdown",
   "id": "598c8392",
   "metadata": {
    "id": "uWtWf3FzLure"
   },
   "source": [
    "### 4.1 Transform the Data into a DataFrame\n",
    "Here we use `lemma_list` to make our dataframe and we view it."
   ]
  },
  {
   "cell_type": "code",
   "execution_count": null,
   "id": "810c7817",
   "metadata": {
    "colab": {
     "base_uri": "https://localhost:8080/",
     "height": 908
    },
    "executionInfo": {
     "elapsed": 8104,
     "status": "ok",
     "timestamp": 1621881363339,
     "user": {
      "displayName": "Yashila Bordag",
      "photoUrl": "https://lh3.googleusercontent.com/a-/AOh14GjZVEeYeV_hnz32r9dwU1yPT5LQXSAHKUtmZvpOUQ=s64",
      "userId": "05395610717484735407"
     },
     "user_tz": 420
    },
    "id": "NZoJS5_vAQpH",
    "outputId": "ab7bc53e-973f-4782-9c92-5f95ef48af3a"
   },
   "outputs": [],
   "source": [
    "words_df = pd.DataFrame(lemma_list)\n",
    "words_df = words_df.fillna('')      # fill empty values with empty strings\n",
    "words_df[words_df['lang'] == 'sux'] # display lemmas where language is Sumerian"
   ]
  },
  {
   "cell_type": "code",
   "execution_count": null,
   "id": "91dee4f8",
   "metadata": {
    "colab": {
     "base_uri": "https://localhost:8080/"
    },
    "executionInfo": {
     "elapsed": 15,
     "status": "ok",
     "timestamp": 1621881363340,
     "user": {
      "displayName": "Yashila Bordag",
      "photoUrl": "https://lh3.googleusercontent.com/a-/AOh14GjZVEeYeV_hnz32r9dwU1yPT5LQXSAHKUtmZvpOUQ=s64",
      "userId": "05395610717484735407"
     },
     "user_tz": 420
    },
    "id": "-JMWehk4AQpJ",
    "outputId": "ffe51d98-46c2-4b67-f394-d3ac0d7ce0b7"
   },
   "outputs": [],
   "source": [
    "words_df.shape   # see shape"
   ]
  },
  {
   "cell_type": "code",
   "execution_count": null,
   "id": "ad6edb9c",
   "metadata": {
    "colab": {
     "base_uri": "https://localhost:8080/"
    },
    "executionInfo": {
     "elapsed": 13,
     "status": "ok",
     "timestamp": 1621881363341,
     "user": {
      "displayName": "Yashila Bordag",
      "photoUrl": "https://lh3.googleusercontent.com/a-/AOh14GjZVEeYeV_hnz32r9dwU1yPT5LQXSAHKUtmZvpOUQ=s64",
      "userId": "05395610717484735407"
     },
     "user_tz": 420
    },
    "id": "tvGOmes-AQpM",
    "outputId": "367769af-18a2-4faf-a70c-2c8570ad0011"
   },
   "outputs": [],
   "source": [
    "words_df.columns # see column names"
   ]
  },
  {
   "cell_type": "markdown",
   "id": "a75dd9a5",
   "metadata": {
    "id": "BVCaAVgOAQpO"
   },
   "source": [
    "### 4.2 Remove Spaces and Commas from Guide Word and Sense\n",
    "Spaces and commas in Guide Word and Sense may cause trouble in computational methods in tokenization, or when saved in Comma Separated Values format. All spaces and commas are replaced by hyphens and nothing (empty string), respectively.\n",
    "\n",
    "By default the `replace()` function in `pandas` will match the entire string (that is, \"lugal\" matches \"lugal\" but there is no match between \"l\" and \"lugal\"). In order to match partial strings the parameter `regex` must be set to `True`.\n",
    "\n",
    "The `replace()` function takes a nested dictionary as argument. The top-level keys identify the columns on which the `replace()` function should operate (in this case 'gw' and 'sense'). The value of each key is another dictionary with the search string as key and the replace string as value."
   ]
  },
  {
   "cell_type": "code",
   "execution_count": null,
   "id": "5beaa2c6",
   "metadata": {
    "id": "aOSIuHoFAQpO"
   },
   "outputs": [],
   "source": [
    "findreplace = {' ' : '-', ',' : ''}\n",
    "words_df = words_df.replace({'gw' : findreplace, 'sense' : findreplace}, regex=True)"
   ]
  },
  {
   "cell_type": "markdown",
   "id": "a4f82797",
   "metadata": {
    "id": "XctKaUznAQpR"
   },
   "source": [
    "The columns in the resulting DataFrame correspond to the elements of a full [ORACC](http://oracc.org) signature, plus information about text, line, and word ids:\n",
    "* base (Sumerian only)\n",
    "* cf (Citation Form)\n",
    "* cont (continuation of the base; Sumerian only)\n",
    "* epos (Effective Part of Speech)\n",
    "* form (transliteration, omitting all flags such as indication of breakage)\n",
    "* frag (transliteration; including flags)\n",
    "* gdl_utf8 (cuneiform)\n",
    "* gw (Guide Word: main or first translation in standard dictionary)\n",
    "* id_text (six-digit P, Q, or X number)\n",
    "* id_word (word ID in the format Text_ID.Line_ID.Word_ID)\n",
    "* label (traditional line number in the form o ii 2' (obverse column 2 line 2'), etc.)\n",
    "* lang (language code, including sux, sux-x-emegir, sux-x-emesal, akk, akk-x-stdbab, etc)\n",
    "* morph (Morphology; Sumerian only)\n",
    "* norm (Normalization: Akkadian)\n",
    "* norm0 (Normalization: Sumerian)\n",
    "* pos (Part of Speech)\n",
    "* sense (contextual meaning)\n",
    "* sig (full ORACC signature)\n",
    "* (newly added) ftype (`yn` if a node represents a year name)\n",
    "\n",
    "Not all data elements (columns) are available for all words. Sumerian words never have a `norm`, Akkadian words do not have `norm0`, `base`, `cont`, or `morph`. Most data elements are only present when the word is lemmatized; only `lang`, `form`, `id_word`, and `id_text` should always be there.\n",
    "\n",
    "We also included some metadata:\n",
    "\n",
    "* date\n",
    "* dates_references\n",
    "* primary_publication\n",
    "* collection\n",
    "* museum_no\n",
    "\n",
    "The first two of which refer to the dates on the tablets and the last three of which refer to the current ownership and where the tablet was published."
   ]
  },
  {
   "cell_type": "markdown",
   "id": "c4804a7f",
   "metadata": {
    "id": "lq8x82jTAQpU"
   },
   "source": [
    "### 4.3 Create Line ID\n",
    "The DataFrame currently has a word-by-word data representation. We will add to each word a field `id_line` that will make it possible to reconstruct lines. This newly created field `id_line` is different from a traditional line number (found in the field \"label\") in two ways. First, id_line is an integer, so that lines are sorted correctly. Second, `id_line` is assigned to words, but also to gaps and horizontal drawings on the tablet. The field `id_line` will allow us to keep all these elements in their proper order.\n",
    "\n",
    "The field \"id_line\" is created by splitting the field \"id_word\" into (two or) three elements. The format of \"id_word\" is IDtext.line.word. The middle part, id_line, is selected and its data type is changed from string to integer. Rows that represent gaps in the text or horizontal drawings have an \"id_word\" in the format IDtext.line (consisting of only two elements), but are treated in exactly the same way."
   ]
  },
  {
   "cell_type": "code",
   "execution_count": null,
   "id": "3ac94d9c",
   "metadata": {
    "colab": {
     "base_uri": "https://localhost:8080/",
     "height": 883
    },
    "executionInfo": {
     "elapsed": 736,
     "status": "ok",
     "timestamp": 1621881368610,
     "user": {
      "displayName": "Yashila Bordag",
      "photoUrl": "https://lh3.googleusercontent.com/a-/AOh14GjZVEeYeV_hnz32r9dwU1yPT5LQXSAHKUtmZvpOUQ=s64",
      "userId": "05395610717484735407"
     },
     "user_tz": 420
    },
    "id": "gQ1W7A1mAQpU",
    "outputId": "9db6365c-13c3-4f7d-cee0-779d959bd620"
   },
   "outputs": [],
   "source": [
    "words_df['id_line'] = [int(wordid.split('.')[1]) for wordid in words_df['id_word']]\n",
    "words_df.head(10)"
   ]
  },
  {
   "cell_type": "markdown",
   "id": "45d726f0",
   "metadata": {
    "id": "E-s0mZ_QAQpX"
   },
   "source": [
    "## 5 Create Lemma Column\n",
    "A lemma, [ORACC](http://oracc.org) style, combines Citation Form, GuideWord and POS into a unique reference to one particular lemma in a standard dictionary, as in `lugal[king]N` (Sumerian) or `šarru[king]N`. \n",
    "\n",
    "Proper Nouns (proper names, geographical names, etc.) are a special case, because they currently receive a Part of Speech, but not a Citation Form or Guide Word.\n",
    "\n",
    "Usually, not all words in a text are lemmatized, because a word may be (partly) broken and/or unknown. Unlemmatized and unlemmatizable words will receive a place-holder lemmatization that consists of the transliteration of the word (instead of the Citation Form), with `NA` as GuideWord and `NA` as POS, as in `i-bu-x[NA]NA`. Note that `NA` is a string. \n",
    "\n",
    "Finally, rows representing horizontal rulings, blank lines, or broken lines have data in the fields 'state', 'scope', and 'extent' (for instance 'state' = broken, 'scope' = line, and 'extent' = 3, to indicate three broken lines). We can use this to prevent scripts to 'jump over' such breaks when looking for key words after (or before) a proper noun. We distinguish between physical breaks and logical breaks (such as horizontal rulings or seal impressions). "
   ]
  },
  {
   "cell_type": "code",
   "execution_count": null,
   "id": "8b78648e",
   "metadata": {
    "colab": {
     "base_uri": "https://localhost:8080/",
     "height": 883
    },
    "executionInfo": {
     "elapsed": 1705,
     "status": "ok",
     "timestamp": 1621881370312,
     "user": {
      "displayName": "Yashila Bordag",
      "photoUrl": "https://lh3.googleusercontent.com/a-/AOh14GjZVEeYeV_hnz32r9dwU1yPT5LQXSAHKUtmZvpOUQ=s64",
      "userId": "05395610717484735407"
     },
     "user_tz": 420
    },
    "id": "lOzeyZDBAQpX",
    "outputId": "c6690bdc-f2c6-4040-d78c-82280ab95d63"
   },
   "outputs": [],
   "source": [
    "proper_nouns = ['FN', 'PN', 'DN', 'AN', 'WN', 'ON', 'TN', 'MN', 'CN', 'GN']\n",
    "physical_break = ['illegible', 'traces', 'missing', 'effaced']\n",
    "logical_break = ['other', 'blank', 'ruling']\n",
    "words_df['lemma'] = words_df[\"cf\"] + '[' + words_df[\"gw\"] + ']' + words_df[\"pos\"]\n",
    "words_df.loc[words_df[\"cf\"] == \"\" , 'lemma'] = words_df['form'] + '[NA]NA'\n",
    "words_df.loc[words_df[\"pos\"] == \"n\" , 'lemma'] = words_df['form'] + '[]NU' \n",
    "#words_df.loc[words_df[\"pos\"].isin(proper_nouns) , 'lemma'] = words_df['form'] + '[]' + words_df['pos']\n",
    "words_df.loc[words_df[\"state\"].isin(logical_break), 'lemma'] = \"break_logical\"\n",
    "words_df.loc[words_df[\"state\"].isin(physical_break), 'lemma'] = \"break_physical\"\n",
    "words_df.head(10)"
   ]
  },
  {
   "cell_type": "markdown",
   "id": "f2be6793",
   "metadata": {
    "id": "rSTq_E65AQpc"
   },
   "source": [
    "## 6 Select Relevant Columns\n",
    "Now we can select only the field 'lemma' and the fields that indicate the ID of the word, the line, or the document, plus the metadata, and the field 'label', which indicates the physical position of the line on the document."
   ]
  },
  {
   "cell_type": "code",
   "execution_count": null,
   "id": "dad47ee3",
   "metadata": {
    "colab": {
     "base_uri": "https://localhost:8080/",
     "height": 942
    },
    "executionInfo": {
     "elapsed": 196,
     "status": "ok",
     "timestamp": 1621881370505,
     "user": {
      "displayName": "Yashila Bordag",
      "photoUrl": "https://lh3.googleusercontent.com/a-/AOh14GjZVEeYeV_hnz32r9dwU1yPT5LQXSAHKUtmZvpOUQ=s64",
      "userId": "05395610717484735407"
     },
     "user_tz": 420
    },
    "id": "0xQS1O3zAQpd",
    "outputId": "c46e355b-98ed-4a2e-c429-88c5b744326d"
   },
   "outputs": [],
   "source": [
    "cols = ['lemma', 'id_text', 'id_line', 'id_word', 'label', 'date', 'dates_references', 'publication', 'collection', 'museum_no', 'ftype', 'metadata_source']\n",
    "words_df = words_df[cols].copy()\n",
    "words_df.head(100)"
   ]
  },
  {
   "cell_type": "markdown",
   "id": "6e9ee4d2",
   "metadata": {
    "id": "9k0PQDIQAQpg"
   },
   "source": [
    "We can simplify the 'id_text' column, because all documents derive from the same project (epsd2/admnin/u3adm)."
   ]
  },
  {
   "cell_type": "code",
   "execution_count": null,
   "id": "df20d23c",
   "metadata": {
    "colab": {
     "base_uri": "https://localhost:8080/",
     "height": 1000
    },
    "executionInfo": {
     "elapsed": 380,
     "status": "ok",
     "timestamp": 1621881370882,
     "user": {
      "displayName": "Yashila Bordag",
      "photoUrl": "https://lh3.googleusercontent.com/a-/AOh14GjZVEeYeV_hnz32r9dwU1yPT5LQXSAHKUtmZvpOUQ=s64",
      "userId": "05395610717484735407"
     },
     "user_tz": 420
    },
    "id": "EkAvgI9DAQpg",
    "outputId": "7de207f9-a391-459c-9af6-15268d3e92b2"
   },
   "outputs": [],
   "source": [
    "words_df['id_text'] = [tid[-7:] for tid in words_df['id_text']]\n",
    "words_df.head(20)"
   ]
  },
  {
   "cell_type": "code",
   "execution_count": null,
   "id": "2c121469",
   "metadata": {
    "colab": {
     "base_uri": "https://localhost:8080/",
     "height": 1000
    },
    "executionInfo": {
     "elapsed": 8,
     "status": "ok",
     "timestamp": 1621881370883,
     "user": {
      "displayName": "Yashila Bordag",
      "photoUrl": "https://lh3.googleusercontent.com/a-/AOh14GjZVEeYeV_hnz32r9dwU1yPT5LQXSAHKUtmZvpOUQ=s64",
      "userId": "05395610717484735407"
     },
     "user_tz": 420
    },
    "id": "_O3zEqh_AQpp",
    "outputId": "4ef06811-4bc9-4943-a41e-27126157b148"
   },
   "outputs": [],
   "source": [
    "test = words_df.head(4000)\n",
    "test[test['lemma'].str.contains('N')]"
   ]
  },
  {
   "cell_type": "markdown",
   "id": "8039639b",
   "metadata": {
    "id": "oqgzqhGCAQpr"
   },
   "source": [
    "## 7 Save Results in CSV file & Pickle\n",
    "The output file is called `part_1_output.csv` and is placed in the directory `output`. In most computers, `csv` files open automatically in Excel. This program does not deal well with `utf-8` encoding (files in `utf-8` need to be imported; see the instructions [here](https://www.itg.ias.edu/content/how-import-csv-file-uses-utf-8-character-encoding-0). If you intend to use the file in Excel, change `encoding ='utf-8'` to `encoding='utf-16'`. For usage in computational text analysis applications `utf-8` is usually preferred. \n",
    "\n",
    "The Pandas function `to_pickle()` writes a binary file that can be opened in a later phase of the project with the `read_pickle()` command and will reproduce exactly the same DataFrame with the same data structure. The resulting file can only be used by pandas.\n",
    "\n",
    "You can skip Part I by importing the Part I output as a pandas dataframe at the beginning of Part II. Similarly, in the next parts, after you save the output, you will be able to import that output later on instead of rerunning the sections before."
   ]
  },
  {
   "cell_type": "code",
   "execution_count": null,
   "id": "454f55b7",
   "metadata": {
    "id": "M85wUlB1AQpr",
    "scrolled": true
   },
   "outputs": [],
   "source": [
    "words_df.to_csv('output/part_1_output.csv')\n",
    "words_df.to_pickle('output/part_1_output.p')"
   ]
  }
 ],
 "metadata": {
  "kernelspec": {
   "display_name": "Python 3",
   "language": "python",
   "name": "python3"
  },
  "language_info": {
   "codemirror_mode": {
    "name": "ipython",
    "version": 3
   },
   "file_extension": ".py",
   "mimetype": "text/x-python",
   "name": "python",
   "nbconvert_exporter": "python",
   "pygments_lexer": "ipython3",
   "version": "3.7.7"
  }
 },
 "nbformat": 4,
 "nbformat_minor": 5
}
