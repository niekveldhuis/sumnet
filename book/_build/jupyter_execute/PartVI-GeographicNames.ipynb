{
 "cells": [
  {
   "cell_type": "markdown",
   "id": "34656bbd",
   "metadata": {
    "id": "UA32Fv8Z9BzS"
   },
   "source": [
    "# VI. Geographic Names"
   ]
  },
  {
   "cell_type": "markdown",
   "id": "be8d90a6",
   "metadata": {
    "id": "qfE2ks08w_jH"
   },
   "source": []
  },
  {
   "cell_type": "code",
   "execution_count": null,
   "id": "9b168df0",
   "metadata": {
    "id": "2O39pVhd9GFH"
   },
   "outputs": [],
   "source": [
    "files = ['filtered_'+str(n)+'_with_neighbors_normalized.csv' for n in range(1,10)]"
   ]
  },
  {
   "cell_type": "code",
   "execution_count": null,
   "id": "58a79933",
   "metadata": {
    "id": "rJRmyk_E9GFK"
   },
   "outputs": [],
   "source": [
    "geo_names = {}\n",
    "p_number = ''\n",
    "places = []\n",
    "ids = []\n",
    "geo_names_list = []\n",
    "types = [\"SN\", \"GN\", \"TN\", \"AN\", \"FN\", \"QN\", \"WN\"]\n",
    "for index, row in words_df.head(500).iterrows():\n",
    "  if row['id_word'][:7] != p_number:\n",
    "      geo_names[p_number] = places\n",
    "      p_number = row['id_word'][:7]\n",
    "      places = []\n",
    "    #  ids = []\n",
    "  w = row['lemma']\n",
    "  if w[-2:] in types:\n",
    "      places.append(w)\n",
    "      ids.append(row['id_word'])\n",
    "     # print(ids)\n",
    "      if w not in geo_names_list:\n",
    "          geo_names_list.append(w)\n",
    "geo_names[p_number] = [places]\n",
    "del geo_names['']"
   ]
  },
  {
   "cell_type": "code",
   "execution_count": null,
   "id": "29706e9e",
   "metadata": {
    "id": "tah2hLiB9GFN"
   },
   "outputs": [],
   "source": [
    "d = {'ip':list(geo_names.keys()),'geo_name': list(geo_names.values())}\n",
    "geo_df = pd.DataFrame.from_dict(data = d)\n",
    "#geo_names_list"
   ]
  },
  {
   "cell_type": "code",
   "execution_count": null,
   "id": "95c9c369",
   "metadata": {
    "id": "iLG3V6Ea9GFP"
   },
   "outputs": [],
   "source": [
    "geo_df[\"num_geo_names\"] = geo_df[\"geo_name\"].apply(lambda x:len(x))"
   ]
  },
  {
   "cell_type": "code",
   "execution_count": null,
   "id": "ea317f18",
   "metadata": {
    "id": "PwkZDbZ7Vezm"
   },
   "outputs": [],
   "source": [
    "geo_df[geo_df.num_geo_names>1].head(10)"
   ]
  }
 ],
 "metadata": {
  "kernelspec": {
   "display_name": "Python 3",
   "language": "python",
   "name": "python3"
  },
  "language_info": {
   "codemirror_mode": {
    "name": "ipython",
    "version": 3
   },
   "file_extension": ".py",
   "mimetype": "text/x-python",
   "name": "python",
   "nbconvert_exporter": "python",
   "pygments_lexer": "ipython3",
   "version": "3.7.7"
  }
 },
 "nbformat": 4,
 "nbformat_minor": 5
}